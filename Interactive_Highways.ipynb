{
 "cells": [
  {
   "cell_type": "markdown",
   "metadata": {},
   "source": [
    "### Interactive Highways\n",
    "\n",
    "This project demonstrates how to overlay highway features on Open Street Map (OSM) on the example of Highways 407, 412 and 418. In addition, it shows how to add basic highway metrics, like Annual Average Daily Traffic (AADT), and make highway features interactactive by clicking on them.\n",
    "#### Data\n",
    "\n",
    "* Highway network was obtained from OSM by exporting all the features in the area of interest in small blocks. These blocks were then merged in QGIS. Then, using a table of attributes, toll roads were selected and then exported.\n",
    "\n",
    "* Highway interchnages were obtained using Google Maps by finding latitude, longitude of each interchnage\n",
    "\n",
    "* AADT values are fictional and \n",
    "\n",
    "* CRS: ESPG4326 (WGS84, lat, lon)\n",
    "\n",
    "Date: March 16, 2021"
   ]
  },
  {
   "cell_type": "code",
   "execution_count": 1,
   "metadata": {},
   "outputs": [],
   "source": [
    "# import modules\n",
    "import geopandas as gpd\n",
    "import pandas as pd\n",
    "import matplotlib.pyplot as plt\n",
    "import folium\n",
    "import mplleaflet\n",
    "import os"
   ]
  },
  {
   "cell_type": "markdown",
   "metadata": {},
   "source": [
    "Position our field view above Highways 407, 412 and 418. Use folium module for this task. Note that coordinates are provided in the format [lat, lon]"
   ]
  },
  {
   "cell_type": "code",
   "execution_count": 2,
   "metadata": {},
   "outputs": [],
   "source": [
    "m = folium.Map(location=[43.9511982,-79.0168722], zoom_start=10, control_scale=True)"
   ]
  },
  {
   "cell_type": "code",
   "execution_count": 3,
   "metadata": {},
   "outputs": [
    {
     "data": {
      "text/html": [
       "<div style=\"width:100%;\"><div style=\"position:relative;width:100%;height:0;padding-bottom:60%;\"><span style=\"color:#565656\">Make this Notebook Trusted to load map: File -> Trust Notebook</span><iframe src=\"about:blank\" style=\"position:absolute;width:100%;height:100%;left:0;top:0;border:none !important;\" data-html=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 onload=\"this.contentDocument.open();this.contentDocument.write(atob(this.getAttribute('data-html')));this.contentDocument.close();\" allowfullscreen webkitallowfullscreen mozallowfullscreen></iframe></div></div>"
      ],
      "text/plain": [
       "<folium.folium.Map at 0x99c41c8>"
      ]
     },
     "execution_count": 3,
     "metadata": {},
     "output_type": "execute_result"
    }
   ],
   "source": [
    "m"
   ]
  },
  {
   "cell_type": "markdown",
   "metadata": {},
   "source": [
    "Define a file path and files to be used in the project. Specifically, we use two files in *.shp file format. Files are located in the folder '/docs'. Note that shapefile is a common file format for GIS files, and they can be loaded by geopandas in a simple way."
   ]
  },
  {
   "cell_type": "code",
   "execution_count": 4,
   "metadata": {},
   "outputs": [
    {
     "name": "stdout",
     "output_type": "stream",
     "text": [
      "docs\\Toll_hwy.shp \n",
      " docs\\Highway_attributes.csv \n",
      " docs\\Interchanges.shp\n"
     ]
    }
   ],
   "source": [
    "# define a file path\n",
    "fp = r'docs'\n",
    "\n",
    "# define files paths\n",
    "roads_fname = os.path.join(fp, 'Toll_hwy.shp')\n",
    "hwy_attr_fname = os.path.join(fp, 'Highway_attributes.csv')\n",
    "inter_fname = os.path.join(fp, 'Interchanges.shp')\n",
    "\n",
    "print(roads_fname,'\\n', hwy_attr_fname,'\\n', inter_fname)"
   ]
  },
  {
   "cell_type": "markdown",
   "metadata": {},
   "source": [
    "Roads file contains three fields, id, segid and geometry. SEGID stands for segment id."
   ]
  },
  {
   "cell_type": "code",
   "execution_count": 5,
   "metadata": {},
   "outputs": [
    {
     "data": {
      "text/html": [
       "<div>\n",
       "<style scoped>\n",
       "    .dataframe tbody tr th:only-of-type {\n",
       "        vertical-align: middle;\n",
       "    }\n",
       "\n",
       "    .dataframe tbody tr th {\n",
       "        vertical-align: top;\n",
       "    }\n",
       "\n",
       "    .dataframe thead th {\n",
       "        text-align: right;\n",
       "    }\n",
       "</style>\n",
       "<table border=\"1\" class=\"dataframe\">\n",
       "  <thead>\n",
       "    <tr style=\"text-align: right;\">\n",
       "      <th></th>\n",
       "      <th>id</th>\n",
       "      <th>SEGID</th>\n",
       "      <th>geometry</th>\n",
       "    </tr>\n",
       "  </thead>\n",
       "  <tbody>\n",
       "    <tr>\n",
       "      <th>0</th>\n",
       "      <td>1</td>\n",
       "      <td>407001</td>\n",
       "      <td>LINESTRING (-79.09797 43.91841, -79.09796 43.9...</td>\n",
       "    </tr>\n",
       "    <tr>\n",
       "      <th>1</th>\n",
       "      <td>2</td>\n",
       "      <td>407002</td>\n",
       "      <td>LINESTRING (-79.02113 43.94966, -79.01587 43.9...</td>\n",
       "    </tr>\n",
       "    <tr>\n",
       "      <th>2</th>\n",
       "      <td>3</td>\n",
       "      <td>407003</td>\n",
       "      <td>LINESTRING (-79.00924 43.95096, -78.99023 43.9...</td>\n",
       "    </tr>\n",
       "  </tbody>\n",
       "</table>\n",
       "</div>"
      ],
      "text/plain": [
       "   id   SEGID                                           geometry\n",
       "0   1  407001  LINESTRING (-79.09797 43.91841, -79.09796 43.9...\n",
       "1   2  407002  LINESTRING (-79.02113 43.94966, -79.01587 43.9...\n",
       "2   3  407003  LINESTRING (-79.00924 43.95096, -78.99023 43.9..."
      ]
     },
     "execution_count": 5,
     "metadata": {},
     "output_type": "execute_result"
    }
   ],
   "source": [
    "# read road file as geo df and explore its content\n",
    "roads = gpd.read_file(roads_fname)\n",
    "\n",
    "roads.head(3)"
   ]
  },
  {
   "cell_type": "markdown",
   "metadata": {},
   "source": [
    "Explore coordinate system for properties, also referred to as crs. Here we find that crs is espg: 4326. This crs is based on ellipsoid WGS84 and it's coordinate system uses geographic units (lat, lon). This crs is suitable for folium module and thus we keep its properties without further changes."
   ]
  },
  {
   "cell_type": "code",
   "execution_count": 6,
   "metadata": {},
   "outputs": [
    {
     "data": {
      "text/plain": [
       "<Geographic 2D CRS: EPSG:4326>\n",
       "Name: WGS 84\n",
       "Axis Info [ellipsoidal]:\n",
       "- Lat[north]: Geodetic latitude (degree)\n",
       "- Lon[east]: Geodetic longitude (degree)\n",
       "Area of Use:\n",
       "- name: World\n",
       "- bounds: (-180.0, -90.0, 180.0, 90.0)\n",
       "Datum: World Geodetic System 1984\n",
       "- Ellipsoid: WGS 84\n",
       "- Prime Meridian: Greenwich"
      ]
     },
     "execution_count": 6,
     "metadata": {},
     "output_type": "execute_result"
    }
   ],
   "source": [
    "roads.crs"
   ]
  },
  {
   "cell_type": "markdown",
   "metadata": {},
   "source": [
    "Create a plot of roads shape file. From this plot we observe that toll highway consists of three highways: \n",
    "* Highway 407, which traverses from east to west, and is the longest section (~44 km)\n",
    "* Highway 412, which traverses from north to south and is a western highway (~10 km)\n",
    "* Highway 418, which traverses from north to south and is an easter highway (~10 km)\n",
    "\n",
    "The total length is approximately 64 km."
   ]
  },
  {
   "cell_type": "code",
   "execution_count": 7,
   "metadata": {},
   "outputs": [
    {
     "data": {
      "image/png": "[encoded data removed]",
      "text/plain": [
       "<Figure size 432x288 with 1 Axes>"
      ]
     },
     "metadata": {
      "needs_background": "light"
     },
     "output_type": "display_data"
    }
   ],
   "source": [
    "# plot roads\n",
    "roads.plot();"
   ]
  },
  {
   "cell_type": "markdown",
   "metadata": {},
   "source": [
    "Let's load attributes file and review it. Attributes file has five fields, namely SEGID, Highway, Name, AADT18 and AADT19. Considering that 'csv' file is a comma-delimited file, other segment-related attributes can be added, like traffic volume trips, speed, volume-to-capacity ratio, among others. The description of included fields is provided below. \n",
    "\n",
    "* SEGID - has keys required to join csv with roads. \n",
    "* Highway - identifies highways: 407, 412 or 418. \n",
    "* Name - descibes the segment name between two sequential interchnages.\n",
    "* AADT18/19 - fictional annual average daily traffic "
   ]
  },
  {
   "cell_type": "code",
   "execution_count": 8,
   "metadata": {},
   "outputs": [
    {
     "data": {
      "text/html": [
       "<div>\n",
       "<style scoped>\n",
       "    .dataframe tbody tr th:only-of-type {\n",
       "        vertical-align: middle;\n",
       "    }\n",
       "\n",
       "    .dataframe tbody tr th {\n",
       "        vertical-align: top;\n",
       "    }\n",
       "\n",
       "    .dataframe thead th {\n",
       "        text-align: right;\n",
       "    }\n",
       "</style>\n",
       "<table border=\"1\" class=\"dataframe\">\n",
       "  <thead>\n",
       "    <tr style=\"text-align: right;\">\n",
       "      <th></th>\n",
       "      <th>SEGID</th>\n",
       "      <th>Highway</th>\n",
       "      <th>Name</th>\n",
       "      <th>AADT18</th>\n",
       "      <th>AADT19</th>\n",
       "    </tr>\n",
       "  </thead>\n",
       "  <tbody>\n",
       "    <tr>\n",
       "      <th>0</th>\n",
       "      <td>407001</td>\n",
       "      <td>407</td>\n",
       "      <td>Brock-LakeRidge</td>\n",
       "      <td>1000</td>\n",
       "      <td>1050</td>\n",
       "    </tr>\n",
       "    <tr>\n",
       "      <th>1</th>\n",
       "      <td>407002</td>\n",
       "      <td>407</td>\n",
       "      <td>LakeRidge-Hwy412</td>\n",
       "      <td>1500</td>\n",
       "      <td>1575</td>\n",
       "    </tr>\n",
       "    <tr>\n",
       "      <th>2</th>\n",
       "      <td>407003</td>\n",
       "      <td>407</td>\n",
       "      <td>Hwy412-Baldwin</td>\n",
       "      <td>2000</td>\n",
       "      <td>2100</td>\n",
       "    </tr>\n",
       "  </tbody>\n",
       "</table>\n",
       "</div>"
      ],
      "text/plain": [
       "    SEGID  Highway              Name  AADT18  AADT19\n",
       "0  407001      407   Brock-LakeRidge    1000    1050\n",
       "1  407002      407  LakeRidge-Hwy412    1500    1575\n",
       "2  407003      407    Hwy412-Baldwin    2000    2100"
      ]
     },
     "execution_count": 8,
     "metadata": {},
     "output_type": "execute_result"
    }
   ],
   "source": [
    "# load highway attributes file\n",
    "attr = pd.read_csv(hwy_attr_fname, sep=',')\n",
    "\n",
    "attr.head(3)"
   ]
  },
  {
   "cell_type": "code",
   "execution_count": 9,
   "metadata": {},
   "outputs": [
    {
     "data": {
      "text/plain": [
       "(str, numpy.int64)"
      ]
     },
     "execution_count": 9,
     "metadata": {},
     "output_type": "execute_result"
    }
   ],
   "source": [
    "# check data of SEGID keys before merging two datasets\n",
    "# data types do not match\n",
    "type(roads['SEGID'][0]), type(attr['SEGID'][0])"
   ]
  },
  {
   "cell_type": "code",
   "execution_count": 10,
   "metadata": {},
   "outputs": [
    {
     "name": "stdout",
     "output_type": "stream",
     "text": [
      "<class 'str'> <class 'str'>\n"
     ]
    },
    {
     "data": {
      "text/plain": [
       "True"
      ]
     },
     "execution_count": 10,
     "metadata": {},
     "output_type": "execute_result"
    }
   ],
   "source": [
    "# convert data type of SEGID from attributes file to a string type\n",
    "attr['SEGID']=attr['SEGID'].apply(lambda x:str(x))\n",
    "\n",
    "# check data type again\n",
    "print(type(roads['SEGID'][0]), type(attr['SEGID'][0]))\n",
    "\n",
    "type(roads['SEGID'][0]) == type(attr['SEGID'][0])"
   ]
  },
  {
   "cell_type": "code",
   "execution_count": 11,
   "metadata": {},
   "outputs": [
    {
     "data": {
      "text/html": [
       "<div>\n",
       "<style scoped>\n",
       "    .dataframe tbody tr th:only-of-type {\n",
       "        vertical-align: middle;\n",
       "    }\n",
       "\n",
       "    .dataframe tbody tr th {\n",
       "        vertical-align: top;\n",
       "    }\n",
       "\n",
       "    .dataframe thead th {\n",
       "        text-align: right;\n",
       "    }\n",
       "</style>\n",
       "<table border=\"1\" class=\"dataframe\">\n",
       "  <thead>\n",
       "    <tr style=\"text-align: right;\">\n",
       "      <th></th>\n",
       "      <th>id</th>\n",
       "      <th>SEGID</th>\n",
       "      <th>geometry</th>\n",
       "      <th>Highway</th>\n",
       "      <th>Name</th>\n",
       "      <th>AADT18</th>\n",
       "      <th>AADT19</th>\n",
       "    </tr>\n",
       "  </thead>\n",
       "  <tbody>\n",
       "    <tr>\n",
       "      <th>0</th>\n",
       "      <td>1</td>\n",
       "      <td>407001</td>\n",
       "      <td>LINESTRING (-79.09797 43.91841, -79.09796 43.9...</td>\n",
       "      <td>407</td>\n",
       "      <td>Brock-LakeRidge</td>\n",
       "      <td>1000</td>\n",
       "      <td>1050</td>\n",
       "    </tr>\n",
       "    <tr>\n",
       "      <th>1</th>\n",
       "      <td>2</td>\n",
       "      <td>407002</td>\n",
       "      <td>LINESTRING (-79.02113 43.94966, -79.01587 43.9...</td>\n",
       "      <td>407</td>\n",
       "      <td>LakeRidge-Hwy412</td>\n",
       "      <td>1500</td>\n",
       "      <td>1575</td>\n",
       "    </tr>\n",
       "    <tr>\n",
       "      <th>2</th>\n",
       "      <td>3</td>\n",
       "      <td>407003</td>\n",
       "      <td>LINESTRING (-79.00924 43.95096, -78.99023 43.9...</td>\n",
       "      <td>407</td>\n",
       "      <td>Hwy412-Baldwin</td>\n",
       "      <td>2000</td>\n",
       "      <td>2100</td>\n",
       "    </tr>\n",
       "  </tbody>\n",
       "</table>\n",
       "</div>"
      ],
      "text/plain": [
       "   id   SEGID                                           geometry  Highway  \\\n",
       "0   1  407001  LINESTRING (-79.09797 43.91841, -79.09796 43.9...      407   \n",
       "1   2  407002  LINESTRING (-79.02113 43.94966, -79.01587 43.9...      407   \n",
       "2   3  407003  LINESTRING (-79.00924 43.95096, -78.99023 43.9...      407   \n",
       "\n",
       "               Name  AADT18  AADT19  \n",
       "0   Brock-LakeRidge    1000    1050  \n",
       "1  LakeRidge-Hwy412    1500    1575  \n",
       "2    Hwy412-Baldwin    2000    2100  "
      ]
     },
     "execution_count": 11,
     "metadata": {},
     "output_type": "execute_result"
    }
   ],
   "source": [
    "# Merge data sets, where roads is the main file because it has crs\n",
    "iHwy = roads.merge(attr, on='SEGID')\n",
    "\n",
    "iHwy.head(3)"
   ]
  },
  {
   "cell_type": "markdown",
   "metadata": {},
   "source": [
    "Load interchanges file and review its content"
   ]
  },
  {
   "cell_type": "code",
   "execution_count": 12,
   "metadata": {},
   "outputs": [
    {
     "data": {
      "text/html": [
       "<div>\n",
       "<style scoped>\n",
       "    .dataframe tbody tr th:only-of-type {\n",
       "        vertical-align: middle;\n",
       "    }\n",
       "\n",
       "    .dataframe tbody tr th {\n",
       "        vertical-align: top;\n",
       "    }\n",
       "\n",
       "    .dataframe thead th {\n",
       "        text-align: right;\n",
       "    }\n",
       "</style>\n",
       "<table border=\"1\" class=\"dataframe\">\n",
       "  <thead>\n",
       "    <tr style=\"text-align: right;\">\n",
       "      <th></th>\n",
       "      <th>Highway</th>\n",
       "      <th>Interchang</th>\n",
       "      <th>Latitude</th>\n",
       "      <th>Longitude</th>\n",
       "      <th>geometry</th>\n",
       "    </tr>\n",
       "  </thead>\n",
       "  <tbody>\n",
       "    <tr>\n",
       "      <th>0</th>\n",
       "      <td>407</td>\n",
       "      <td>Brock407</td>\n",
       "      <td>43.918415</td>\n",
       "      <td>-79.097968</td>\n",
       "      <td>POINT (-79.09797 43.91841)</td>\n",
       "    </tr>\n",
       "    <tr>\n",
       "      <th>1</th>\n",
       "      <td>407</td>\n",
       "      <td>LakeRidge</td>\n",
       "      <td>43.949670</td>\n",
       "      <td>-79.021130</td>\n",
       "      <td>POINT (-79.02113 43.94967)</td>\n",
       "    </tr>\n",
       "    <tr>\n",
       "      <th>2</th>\n",
       "      <td>407</td>\n",
       "      <td>Hwy412</td>\n",
       "      <td>43.950967</td>\n",
       "      <td>-79.009221</td>\n",
       "      <td>POINT (-79.00922 43.95097)</td>\n",
       "    </tr>\n",
       "  </tbody>\n",
       "</table>\n",
       "</div>"
      ],
      "text/plain": [
       "   Highway Interchang   Latitude  Longitude                    geometry\n",
       "0      407   Brock407  43.918415 -79.097968  POINT (-79.09797 43.91841)\n",
       "1      407  LakeRidge  43.949670 -79.021130  POINT (-79.02113 43.94967)\n",
       "2      407     Hwy412  43.950967 -79.009221  POINT (-79.00922 43.95097)"
      ]
     },
     "execution_count": 12,
     "metadata": {},
     "output_type": "execute_result"
    }
   ],
   "source": [
    "interchanges = gpd.read_file(inter_fname)\n",
    "\n",
    "interchanges.head(3)"
   ]
  },
  {
   "cell_type": "code",
   "execution_count": 13,
   "metadata": {},
   "outputs": [
    {
     "data": {
      "text/plain": [
       "True"
      ]
     },
     "execution_count": 13,
     "metadata": {},
     "output_type": "execute_result"
    }
   ],
   "source": [
    "# confirm that both datasets have a common crs\n",
    "interchanges.crs == roads.crs"
   ]
  },
  {
   "cell_type": "code",
   "execution_count": 14,
   "metadata": {},
   "outputs": [
    {
     "data": {
      "image/png": "[encoded data removed]",
      "text/plain": [
       "<Figure size 432x288 with 1 Axes>"
      ]
     },
     "metadata": {
      "needs_background": "light"
     },
     "output_type": "display_data"
    }
   ],
   "source": [
    "# plot interchnages\n",
    "interchanges.plot();"
   ]
  },
  {
   "cell_type": "markdown",
   "metadata": {},
   "source": [
    "Interchange file has 19 unique interchnages"
   ]
  },
  {
   "cell_type": "code",
   "execution_count": 15,
   "metadata": {},
   "outputs": [
    {
     "data": {
      "text/plain": [
       "Highway        3\n",
       "Interchang    19\n",
       "Latitude      19\n",
       "Longitude     19\n",
       "geometry      19\n",
       "dtype: int64"
      ]
     },
     "execution_count": 15,
     "metadata": {},
     "output_type": "execute_result"
    }
   ],
   "source": [
    "interchanges.nunique()"
   ]
  },
  {
   "cell_type": "code",
   "execution_count": 16,
   "metadata": {},
   "outputs": [
    {
     "data": {
      "text/plain": [
       "Index(['Highway', 'Interchang', 'Latitude', 'Longitude', 'geometry'], dtype='object')"
      ]
     },
     "execution_count": 16,
     "metadata": {},
     "output_type": "execute_result"
    }
   ],
   "source": [
    "interchanges.columns"
   ]
  },
  {
   "cell_type": "code",
   "execution_count": 17,
   "metadata": {},
   "outputs": [
    {
     "data": {
      "text/html": [
       "<div style=\"width:100%;\"><div style=\"position:relative;width:100%;height:0;padding-bottom:60%;\"><span style=\"color:#565656\">Make this Notebook Trusted to load map: File -> Trust Notebook</span><iframe src=\"about:blank\" style=\"position:absolute;width:100%;height:100%;left:0;top:0;border:none !important;\" data-html=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 onload=\"this.contentDocument.open();this.contentDocument.write(atob(this.getAttribute('data-html')));this.contentDocument.close();\" allowfullscreen webkitallowfullscreen mozallowfullscreen></iframe></div></div>"
      ],
      "text/plain": [
       "<folium.folium.Map at 0x99c41c8>"
      ]
     },
     "execution_count": 17,
     "metadata": {},
     "output_type": "execute_result"
    }
   ],
   "source": [
    "# add road network\n",
    "folium.GeoJson(data=iHwy,\n",
    "               name=\"Highway 407 East\",\n",
    "               style_function=lambda x:{\"weight\":2, 'color':'blue','fillOpacity':0.2},\n",
    "               highlight_function=lambda x: {'weight':3, 'color':'black'},\n",
    "               smooth_factor=2.0,\n",
    "               tooltip=folium.features.GeoJsonTooltip(fields=['Name','AADT18'],\n",
    "                                                      aliases=['Segment Name', 'AADT18'],\n",
    "                                                      labels=True,\n",
    "                                                      sticky=True\n",
    "                                                     )\n",
    "              ).add_to(m)\n",
    "\n",
    "\n",
    "\n",
    "# add interchanges\n",
    "folium.GeoJson(data=interchanges,\n",
    "               name=\"Interchanges\",\n",
    "               style_function=lambda x:{\"weight\":10, 'color':'red','fillOpacity':0.2},\n",
    "               highlight_function=lambda x: {'weight':3, 'color':'black'},\n",
    "               smooth_factor=2.0,\n",
    "               tooltip=folium.features.GeoJsonTooltip(fields=['Interchang'],\n",
    "                                                      aliases=['Interchange'],\n",
    "                                                      labels=True,\n",
    "                                                      sticky=True\n",
    "                                                     )\n",
    "              ).add_to(m)\n",
    "\n",
    "\n",
    "folium.LayerControl().add_to(m)\n",
    "\n",
    "m"
   ]
  },
  {
   "cell_type": "markdown",
   "metadata": {},
   "source": [
    "Save the interactive map as a html file"
   ]
  },
  {
   "cell_type": "code",
   "execution_count": 18,
   "metadata": {},
   "outputs": [],
   "source": [
    "outfp = r'docs/interactive_highway.html'\n",
    "m.save(outfp)"
   ]
  }
 ],
 "metadata": {
  "kernelspec": {
   "display_name": "Python 3",
   "language": "python",
   "name": "python3"
  },
  "language_info": {
   "codemirror_mode": {
    "name": "ipython",
    "version": 3
   },
   "file_extension": ".py",
   "mimetype": "text/x-python",
   "name": "python",
   "nbconvert_exporter": "python",
   "pygments_lexer": "ipython3",
   "version": "3.7.8"
  }
 },
 "nbformat": 4,
 "nbformat_minor": 4
}
